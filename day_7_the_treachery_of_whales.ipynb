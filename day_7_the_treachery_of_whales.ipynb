{
  "nbformat": 4,
  "nbformat_minor": 0,
  "metadata": {
    "colab": {
      "name": "Solutions",
      "provenance": [],
      "collapsed_sections": [],
      "mount_file_id": "1yEYGMWt05b3ks5dlEGgNLsDSugmpSl8e",
      "authorship_tag": "ABX9TyNsWi/0G1S3lYihXTwAAMfb",
      "include_colab_link": true
    },
    "kernelspec": {
      "name": "python3",
      "display_name": "Python 3"
    },
    "language_info": {
      "name": "python"
    }
  },
  "cells": [
    {
      "cell_type": "markdown",
      "metadata": {
        "id": "view-in-github",
        "colab_type": "text"
      },
      "source": [
        "<a href=\"https://colab.research.google.com/github/Anthei0774/Advent-of-Code-2021/blob/main/day_7_the_treachery_of_whales.ipynb\" target=\"_parent\"><img src=\"https://colab.research.google.com/assets/colab-badge.svg\" alt=\"Open In Colab\"/></a>"
      ]
    },
    {
      "cell_type": "code",
      "execution_count": 54,
      "metadata": {
        "id": "hbfr1C9khMwe",
        "colab": {
          "base_uri": "https://localhost:8080/"
        },
        "outputId": "bf689fa7-2a1f-419e-e01c-651ced89aae5"
      },
      "outputs": [
        {
          "output_type": "stream",
          "name": "stdout",
          "text": [
            "Answer: 336120\n",
            "Answer: 96864235\n"
          ]
        }
      ],
      "source": [
        "####################################################################################################\n",
        "### read & process\n",
        "\n",
        "lines = \"16,1,2,0,4,2,7,1,2,14\"\n",
        "\n",
        "f = open(\"7.txt\")\n",
        "lines = f.read()\n",
        "f.close()\n",
        "\n",
        "lines = lines.split(\",\")\n",
        "lines = list(map(int, lines))\n",
        "lines\n",
        "\n",
        "####################################################################################################\n",
        "### PART 1\n",
        "\n",
        "# the median minimizes the L1 distances\n",
        "def median(l):\n",
        "    o = sorted(l)\n",
        "    n = len(l)\n",
        "    if n % 2 == 1:\n",
        "        return o[n // 2]\n",
        "    else:\n",
        "        return int((o[n // 2 - 1] + o[n // 2]) / 2)\n",
        "\n",
        "m = median(lines)\n",
        "\n",
        "ans = sum([ abs(l - m) for l in lines])\n",
        "print(\"Answer:\", ans)\n",
        "\n",
        "####################################################################################################\n",
        "### PART 2\n",
        "\n",
        "### the distance between 2 positions is now given by n-th triangle number, because\n",
        "### 1 + 2 + ... + n = n * (n + 1) / 2\n",
        "\n",
        "def triangle(n):\n",
        "    return n * (n + 1) // 2\n",
        "\n",
        "### assuming that sum-triangled-distance function is unimodal = has only one global minimima\n",
        "### thus a tri-section method solves it in a few steps\n",
        "\n",
        "# start searching for 'm' between the min and the max\n",
        "left = min(lines)\n",
        "right = max(lines)\n",
        "# print(\"left:\", left, \"; right:\", right)\n",
        "\n",
        "while abs(left - right) >= 3:\n",
        "\n",
        "    # divide the left-right interval into 3 segments, equal in size\n",
        "    new_left = (2 * left + right) // 3\n",
        "    new_right = (left + 2 * right) // 3\n",
        "\n",
        "    # evaluate the inner two points\n",
        "    d_left = sum([ triangle(abs(l - new_left)) for l in lines ])\n",
        "    d_right = sum([ triangle(abs(l - new_right)) for l in lines ])\n",
        "\n",
        "    # left is smaller => minima cannot be further right\n",
        "    if d_left < d_right:\n",
        "        right = new_right\n",
        "    # else right is smaller => minima cannot be further left\n",
        "    else:\n",
        "        left = new_left\n",
        "\n",
        "    # print(\"left:\", left, \"; right:\", right)\n",
        "\n",
        "# algorithm stops after left-right are really close, selecting middle point\n",
        "m = left + 1\n",
        "ans = sum([ triangle(abs(l - m)) for l in lines])\n",
        "print(\"Answer:\", ans)"
      ]
    }
  ]
}