{
  "nbformat": 4,
  "nbformat_minor": 0,
  "metadata": {
    "colab": {
      "name": "--- Day 23: Amphipod ---",
      "provenance": [],
      "authorship_tag": "ABX9TyP7co6cXineKameaBhKGtQX",
      "include_colab_link": true
    },
    "kernelspec": {
      "name": "python3",
      "display_name": "Python 3"
    },
    "language_info": {
      "name": "python"
    }
  },
  "cells": [
    {
      "cell_type": "markdown",
      "metadata": {
        "id": "view-in-github",
        "colab_type": "text"
      },
      "source": [
        "<a href=\"https://colab.research.google.com/github/Anthei0774/Advent-of-Code-2021/blob/main/Day_23_Amphipod.ipynb\" target=\"_parent\"><img src=\"https://colab.research.google.com/assets/colab-badge.svg\" alt=\"Open In Colab\"/></a>"
      ]
    },
    {
      "cell_type": "markdown",
      "source": [
        "# https://adventofcode.com/2021/day/23"
      ],
      "metadata": {
        "id": "5HJfBjW4b-Z2"
      }
    },
    {
      "cell_type": "code",
      "execution_count": null,
      "metadata": {
        "id": "6YnmLzbMadzr"
      },
      "outputs": [],
      "source": [
        "#\t#\t#\t#\t#\t#\t#\t#\t#\t#\t#\t#\t#\t\tInitial\t\t\t\n",
        "#\t\t\t\t\t\t\t\t\t\t\t\t#\t\t\t\t\t\n",
        "#\t#\t#\tA1\t#\tD1\t#\tA2\t#\tB2\t#\t#\t#\t\t\t\t\t\n",
        "\t\t#\tB1\t#\tC1\t#\tD2\t#\tC2\t#\t\t\t\t\t\t\t\n",
        "\t\t#\t#\t#\t#\t#\t#\t#\t#\t#\t\t\t\t\t\t\t\n",
        "\n",
        "#\t#\t#\t#\t#\t#\t#\t#\t#\t#\t#\t#\t#\t\tMoves\t                    Cost\tRunning total\t\n",
        "#\tA1\tA2\t\tB2\t\t\t\t\t\tC2\t\t#\t\tA1 moves left hallway\t    3\t    3\t\n",
        "#\t#\t#\t\t#\tD1\t#\t\t#\t\t#\t#\t#\t\tA2 moves left hallway\t    6\t    9\t\n",
        "\t\t#\tB1\t#\tC1\t#\tD2\t#\t\t#\t\t\t\tB2 moves to left column\t    60\t    69 :)\t\n",
        "\t\t#\t#\t#\t#\t#\t#\t#\t#\t#\t\t\t\tC2 moves right hallway\t    300\t    369\t\n",
        "\n",
        "#\t#\t#\t#\t#\t#\t#\t#\t#\t#\t#\t#\t#\t\tMoves\t                    Cost\tRunning total\t\n",
        "#\tA1\tA2\t\tB2\t\t\t\t\t\t\t\t#\t\tD2 moves to their room\t    6000\t6369\t\n",
        "#\t#\t#\t\t#\t\t#\tC1\t#\tD1\t#\t#\t#\t\tD1 moves to their room\t    6000\t12369\t\n",
        "\t\t#\tB1\t#\t\t#\tC2\t#\tD2\t#\t\t\t\tC2 moves to their room\t    500\t    12869\t\n",
        "\t\t#\t#\t#\t#\t#\t#\t#\t#\t#\t\t\t\tC1 moves to their room\t    500\t    13369\t\n",
        "\n",
        "#\t#\t#\t#\t#\t#\t#\t#\t#\t#\t#\t#\t#\t\tMoves\t                    Cost\tRunning total\t\n",
        "#\t\t\t\t\t\t\t\t\t\t\t\t#\t\tB2 moves to their room\t    30\t    13399\t\n",
        "#\t#\t#\tA1\t#\tB1\t#\tC2\t#\tD1\t#\t#\t#\t\tB1 moves to their room\t    50\t    13449\t\n",
        "\t\t#\tA2\t#\tB2\t#\tC1\t#\tD2\t#\t\t\t\tA2 moves to their room\t    3\t    13452\t\n",
        "\t\t#\t#\t#\t#\t#\t#\t#\t#\t#\t\t\t\tA1 moves to their room\t    3\t    13455\t"
      ]
    },
    {
      "cell_type": "code",
      "source": [
        "#\t#\t#\t#\t#\t#\t#\t#\t#\t#\t#\t#\t#\t\t\t\t\n",
        "#\t\t\t\t\t\t\t\t\t\t\t\t#\t\t\t\t\n",
        "#\t#\t#\tA1\t#\tD3\t#\tA2\t#\tB4\t#\t#\t#\t\t\t\t\n",
        "\t\t#\tD1\t#\tC1\t#\tB3\t#\tA4\t#\t\t\t\t\t\t\n",
        "\t\t#\tD2\t#\tB2\t#\tA3\t#\tC3\t#\t\t\t\t\t\t\n",
        "\t\t#\tB1\t#\tC2\t#\tD4\t#\tC4\t#\t\t\t\t\t\t\n",
        "\t\t#\t#\t#\t#\t#\t#\t#\t#\t#\t\t\t\t\t\t\n",
        "\t\t\t\t\t\t\t\t\t\t\t\t\t\t\t\t\n",
        "#\t#\t#\t#\t#\t#\t#\t#\t#\t#\t#\t#\t#\t\tMoves\t                Cost\tRolling total\n",
        "#\tA2\tB3\t\tB4\t\t\t\t\t\tA3\tA4\t#\t\tA2 to left hallway\t    7   \t7\n",
        "#\t#\t#\tA1\t#\tD3\t#\t\t#\t\t#\t#\t#\t\tB3 to left hallway\t    70\t    77\n",
        "\t\t#\tD1\t#\tC1\t#\t\t#\t\t#\t\t\t\tB4 to left column\t    60  \t137\n",
        "\t\t#\tD2\t#\tB2\t#\t\t#\tC3\t#\t\t\t\tA4 to right hallway\t    4   \t141\n",
        "\t\t#\tB1\t#\tC2\t#\tD4\t#\tC4\t#\t\t\t\tA3 to right hallway\t    6   \t147\n",
        "\t\t#\t#\t#\t#\t#\t#\t#\t#\t#\t\t\t\t\t\t\n",
        "\t\t\t\t\t\t\t\t\t\t\t\t\t\t\t\t\n",
        "#\t#\t#\t#\t#\t#\t#\t#\t#\t#\t#\t#\t#\t\tMoves               \tCost\tRolling total\n",
        "#\tA2\tB3\t\tB4\t\t\t\t\t\tA3\tA4\t#\t\tD4 to mid column      \t5000\t5141\n",
        "#\t#\t#\tA1\t#\t\t#\t\t#\t\t#\t#\t#\t\tC3 to self room\t        900 \t6041\n",
        "\t\t#\tD1\t#\tC1\t#\t\t#\t\t#\t\t\t\tC4 to self room     \t900 \t6941\n",
        "\t\t#\tD2\t#\tB2\t#\tC4\t#\tD3\t#\t\t\t\tD4 to self room         7000\t13941\n",
        "\t\t#\tB1\t#\tC2\t#\tC3\t#\tD4\t#\t\t\t\tD3 to self room     \t8000\t21941\n",
        "\t\t#\t#\t#\t#\t#\t#\t#\t#\t#\t\t\t\t\t\t\n",
        "\t\t\t\t\t\t\t\t\t\t\t\t\t\t\t\t\n",
        "#\t#\t#\t#\t#\t#\t#\t#\t#\t#\t#\t#\t#\t\tMoves\t                Cost\tRolling total\n",
        "#\tA2\tB3\t\t\t\t\t\t\t\tA3\tA4\t#\t\tC1 to self room\t        600\t    22541\n",
        "#\t#\t#\tA1\t#\t\t#\tC2\t#\t\t#\t#\t#\t\tB2 to right column\t    60\t    22601\n",
        "\t\t#\tD1\t#\t\t#\tC1\t#\t\t#\t\t\t\tC2 to self room\t        700 \t23301\n",
        "\t\t#\tD2\t#\tB2\t#\tC4\t#\tD3\t#\t\t\t\tB4 to self room\t        50  \t23351\n",
        "\t\t#\tB1\t#\tB4\t#\tC3\t#\tD4\t#\t\t\t\tB2 to self room\t        60  \t23411\n",
        "\t\t#\t#\t#\t#\t#\t#\t#\t#\t#\t\t\t\t\t\t\n",
        "\t\t\t\t\t\t\t\t\t\t\t\t\t\t\t\t\n",
        "#\t#\t#\t#\t#\t#\t#\t#\t#\t#\t#\t#\t#\t\tMoves\t                Cost\tRolling total\n",
        "#\tA2\tA1\t\t\t\t\t\t\t\tA3\tA4\t#\t\tB3 to self room\t        50  \t23461\n",
        "#\t#\t#\t\t#\tB1\t#\tC2\t#\tD2\t#\t#\t#\t\tA1 to left hallway  \t2\t    23463\n",
        "\t\t#\t\t#\tB3\t#\tC1\t#\tD1\t#\t\t\t\tD1 to self room\t        10000\t33463\n",
        "\t\t#\t\t#\tB2\t#\tC4\t#\tD3\t#\t\t\t\tD2 to self room\t        10000\t43463\n",
        "\t\t#\t\t#\tB4\t#\tC3\t#\tD4\t#\t\t\t\tB1 to self room         70  \t43533\n",
        "\t\t#\t#\t#\t#\t#\t#\t#\t#\t#\t\t\t\t\t\t\n",
        "\t\t\t\t\t\t\t\t\t\t\t\t\t\t\t\t\n",
        "#\t#\t#\t#\t#\t#\t#\t#\t#\t#\t#\t#\t#\t\tMoves\t            Cost\tRolling total\n",
        "#\t\t\t\t\t\t\t\t\t\t\t\t#\t\tA1 to self room     5   \t43538\n",
        "#\t#\t#\tA4\t#\tB1\t#\tC2\t#\tD2\t#\t#\t#\t\tA2 to self room \t5   \t43543\n",
        "\t\t#\tA3\t#\tB3\t#\tC1\t#\tD1\t#\t\t\t\tA3 to self room \t9\t    43552\n",
        "\t\t#\tA2\t#\tB2\t#\tC4\t#\tD3\t#\t\t\t\tA4 to self room\t    9   \t43561\n",
        "\t\t#\tA1\t#\tB4\t#\tC3\t#\tD4\t#\t\t\t\t\t\t\n",
        "\t\t#\t#\t#\t#\t#\t#\t#\t#\t#\t\t\t\t\t\t\n",
        "\t\t\t\t\t\t\t\t\t\t\t\t\t\t\t\t"
      ],
      "metadata": {
        "id": "j07Xa6l7a0A_"
      },
      "execution_count": null,
      "outputs": []
    }
  ]
}