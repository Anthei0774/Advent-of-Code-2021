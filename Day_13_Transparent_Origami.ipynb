{
  "nbformat": 4,
  "nbformat_minor": 0,
  "metadata": {
    "colab": {
      "name": "--- Day 13: Transparent Origami ---",
      "provenance": [],
      "collapsed_sections": [],
      "authorship_tag": "ABX9TyNYHbnAVzNSmTsgYv394qu5",
      "include_colab_link": true
    },
    "kernelspec": {
      "name": "python3",
      "display_name": "Python 3"
    },
    "language_info": {
      "name": "python"
    }
  },
  "cells": [
    {
      "cell_type": "markdown",
      "metadata": {
        "id": "view-in-github",
        "colab_type": "text"
      },
      "source": [
        "<a href=\"https://colab.research.google.com/github/Anthei0774/Advent-of-Code-2021/blob/main/Day_13_Transparent_Origami.ipynb\" target=\"_parent\"><img src=\"https://colab.research.google.com/assets/colab-badge.svg\" alt=\"Open In Colab\"/></a>"
      ]
    },
    {
      "cell_type": "markdown",
      "source": [
        "# https://adventofcode.com/2021/day/13"
      ],
      "metadata": {
        "id": "vmYWfiqcQ536"
      }
    },
    {
      "cell_type": "code",
      "source": [
        "example = '''6,10\n",
        "0,14\n",
        "9,10\n",
        "0,3\n",
        "10,4\n",
        "4,11\n",
        "6,0\n",
        "6,12\n",
        "4,1\n",
        "0,13\n",
        "10,12\n",
        "3,4\n",
        "3,0\n",
        "8,4\n",
        "1,10\n",
        "2,14\n",
        "8,10\n",
        "9,0\n",
        "\n",
        "fold along y=7\n",
        "fold along x=5'''\n",
        "\n",
        "with open('13.txt') as f:\n",
        "    puzzle = f.read()\n",
        "\n",
        "################################################################################\n",
        "# process the input by reading and splitting dots from instructions, show first 10\n",
        "def process(text):\n",
        "    text = text.split('\\n')\n",
        "    i = text.index('')\n",
        "\n",
        "    dots = text[ : i ].copy()\n",
        "    dots = [ tuple(map(int, d.split(','))) for d in dots ]\n",
        "    print('Dots:', dots[:10])\n",
        "\n",
        "    instructions = text[ i + 1 : ]\n",
        "    instructions = [ i.split(' ')[2] for i in instructions ]\n",
        "    instructions = [ (i.split('=')[0], int(i.split('=')[1])) for i in instructions ]\n",
        "    print('Instructions:', instructions[:10], '\\n')\n",
        "\n",
        "    return dots, instructions\n",
        "\n",
        "example_dots, example_instructions = process(example)\n",
        "\n",
        "puzzle_dots, puzzle_instructions = process(puzzle)"
      ],
      "metadata": {
        "colab": {
          "base_uri": "https://localhost:8080/"
        },
        "id": "3zlsfhYTRzXX",
        "outputId": "ca0c60e5-9c01-47b4-bbd7-abc661ece616"
      },
      "execution_count": 16,
      "outputs": [
        {
          "output_type": "stream",
          "name": "stdout",
          "text": [
            "Dots: [(6, 10), (0, 14), (9, 10), (0, 3), (10, 4), (4, 11), (6, 0), (6, 12), (4, 1), (0, 13)]\n",
            "Instructions: [('y', 7), ('x', 5)] \n",
            "\n",
            "Dots: [(309, 320), (32, 761), (258, 108), (70, 486), (499, 474), (1038, 537), (1054, 80), (1247, 114), (192, 572), (1262, 628)]\n",
            "Instructions: [('x', 655), ('y', 447), ('x', 327), ('y', 223), ('x', 163), ('y', 111), ('x', 81), ('y', 55), ('x', 40), ('y', 27)] \n",
            "\n"
          ]
        }
      ]
    },
    {
      "cell_type": "code",
      "source": [
        "def create_paper(dots):\n",
        "\n",
        "    # get paper sizes\n",
        "    c = max([ d[0] for d in dots ]) + 1 # x coords\n",
        "    r = max([ d[1] for d in dots ]) + 1 # y coords\n",
        "\n",
        "    # init paper\n",
        "    paper = [ [ \".\" for j in range(c) ] for i in range(r) ]\n",
        "    for d in dots:\n",
        "        x, y = d[0], d[1]\n",
        "        paper[y][x] = \"#\"\n",
        "\n",
        "    return paper\n",
        "\n",
        "example_paper = create_paper(example_dots)\n",
        "puzzle_paper = create_paper(puzzle_dots)\n",
        "\n",
        "example_paper\n",
        "# puzzle_paper # too big to show"
      ],
      "metadata": {
        "id": "R0de1eToSU-j",
        "colab": {
          "base_uri": "https://localhost:8080/"
        },
        "outputId": "f1b0d4bf-66b7-460d-e911-7378dc12b254"
      },
      "execution_count": 17,
      "outputs": [
        {
          "output_type": "execute_result",
          "data": {
            "text/plain": [
              "[['.', '.', '.', '#', '.', '.', '#', '.', '.', '#', '.'],\n",
              " ['.', '.', '.', '.', '#', '.', '.', '.', '.', '.', '.'],\n",
              " ['.', '.', '.', '.', '.', '.', '.', '.', '.', '.', '.'],\n",
              " ['#', '.', '.', '.', '.', '.', '.', '.', '.', '.', '.'],\n",
              " ['.', '.', '.', '#', '.', '.', '.', '.', '#', '.', '#'],\n",
              " ['.', '.', '.', '.', '.', '.', '.', '.', '.', '.', '.'],\n",
              " ['.', '.', '.', '.', '.', '.', '.', '.', '.', '.', '.'],\n",
              " ['.', '.', '.', '.', '.', '.', '.', '.', '.', '.', '.'],\n",
              " ['.', '.', '.', '.', '.', '.', '.', '.', '.', '.', '.'],\n",
              " ['.', '.', '.', '.', '.', '.', '.', '.', '.', '.', '.'],\n",
              " ['.', '#', '.', '.', '.', '.', '#', '.', '#', '#', '.'],\n",
              " ['.', '.', '.', '.', '#', '.', '.', '.', '.', '.', '.'],\n",
              " ['.', '.', '.', '.', '.', '.', '#', '.', '.', '.', '#'],\n",
              " ['#', '.', '.', '.', '.', '.', '.', '.', '.', '.', '.'],\n",
              " ['#', '.', '#', '.', '.', '.', '.', '.', '.', '.', '.']]"
            ]
          },
          "metadata": {},
          "execution_count": 17
        }
      ]
    },
    {
      "cell_type": "code",
      "source": [
        "def fold_paper(paper, instructions, num_folds = None):\n",
        "\n",
        "    folded = [ line.copy() for line in paper ]\n",
        "\n",
        "    r = len(paper)\n",
        "    c = len(paper[0])\n",
        "\n",
        "    for i, ins in enumerate(instructions):\n",
        "    \n",
        "        # vertical fold - easier indexing\n",
        "        if ins[0] == 'y':\n",
        "\n",
        "            # fill fold column\n",
        "            y = ins[1]\n",
        "            folded[y] = [ '-' for d in folded[y] ]\n",
        "\n",
        "            # mirror dots\n",
        "            for yi in range(y + 1, r):\n",
        "                for xi in range(c):\n",
        "                    if folded[yi][xi] == '#':\n",
        "                        folded[y + (y - yi)][xi] = folded[yi][xi]\n",
        "\n",
        "            # reduce paper size\n",
        "            folded = folded[ : y]\n",
        "            r = y\n",
        "\n",
        "        # horizontal fold\n",
        "        else:\n",
        "\n",
        "            # fill fold row\n",
        "            x = ins[1]\n",
        "            for yi in range(r):\n",
        "                folded[yi][x] = '-'\n",
        "\n",
        "            # mirror dots\n",
        "            for yi in range(r):\n",
        "                for xi in range(x + 1, c):\n",
        "                    if folded[yi][xi] == '#':\n",
        "                        folded[yi][x + (x - xi)] = folded[yi][xi]\n",
        "\n",
        "            # reduce paper size\n",
        "            folded = [ line[ : x ].copy() for line in folded]\n",
        "            c = x\n",
        "        \n",
        "        if i + 1 == num_folds:\n",
        "            break\n",
        "\n",
        "    return folded\n",
        "\n",
        "################################################################################\n",
        "\n",
        "example_folded = fold_paper(example_paper,  example_instructions, 1)\n",
        "\n",
        "dots_cnt = sum([ line.count('#') for line in example_folded ])\n",
        "print('Number of dots after 1st fold:', dots_cnt)\n",
        "\n",
        "example_folded"
      ],
      "metadata": {
        "id": "HPs2Qu4JU_Jr",
        "colab": {
          "base_uri": "https://localhost:8080/"
        },
        "outputId": "a3de9e26-e172-4fb5-b624-13983e98e505"
      },
      "execution_count": 23,
      "outputs": [
        {
          "output_type": "stream",
          "name": "stdout",
          "text": [
            "Number of dots after 1st fold: 17\n"
          ]
        },
        {
          "output_type": "execute_result",
          "data": {
            "text/plain": [
              "[['#', '.', '#', '#', '.', '.', '#', '.', '.', '#', '.'],\n",
              " ['#', '.', '.', '.', '#', '.', '.', '.', '.', '.', '.'],\n",
              " ['.', '.', '.', '.', '.', '.', '#', '.', '.', '.', '#'],\n",
              " ['#', '.', '.', '.', '#', '.', '.', '.', '.', '.', '.'],\n",
              " ['.', '#', '.', '#', '.', '.', '#', '.', '#', '#', '#'],\n",
              " ['.', '.', '.', '.', '.', '.', '.', '.', '.', '.', '.'],\n",
              " ['.', '.', '.', '.', '.', '.', '.', '.', '.', '.', '.']]"
            ]
          },
          "metadata": {},
          "execution_count": 23
        }
      ]
    },
    {
      "cell_type": "code",
      "source": [
        "puzzle_folded = fold_paper(puzzle_paper,  puzzle_instructions, 1)\n",
        "\n",
        "dots_cnt = sum([ line.count('#') for line in puzzle_folded ])\n",
        "print('Number of dots after 1st fold:', dots_cnt)"
      ],
      "metadata": {
        "colab": {
          "base_uri": "https://localhost:8080/"
        },
        "id": "EbfpvBQuWUx7",
        "outputId": "38d01184-8a85-45a7-a2d6-3df9f627d493"
      },
      "execution_count": 24,
      "outputs": [
        {
          "output_type": "stream",
          "name": "stdout",
          "text": [
            "Number of dots after 1st fold: 669\n"
          ]
        }
      ]
    },
    {
      "cell_type": "markdown",
      "source": [
        "# Part 2"
      ],
      "metadata": {
        "id": "22ReSYVYWos0"
      }
    },
    {
      "cell_type": "code",
      "source": [
        "# without stopping the fold\n",
        "puzzle_folded = fold_paper(puzzle_paper,  puzzle_instructions)\n",
        "\n",
        "for line in puzzle_folded:\n",
        "    print(line)"
      ],
      "metadata": {
        "colab": {
          "base_uri": "https://localhost:8080/"
        },
        "id": "um8RCn4e8aBs",
        "outputId": "b2f22de5-a97c-48c0-b0c4-9ab7f03ffa9f"
      },
      "execution_count": 27,
      "outputs": [
        {
          "output_type": "stream",
          "name": "stdout",
          "text": [
            "['#', '.', '.', '#', '.', '#', '#', '#', '#', '.', '#', '#', '#', '#', '.', '#', '#', '#', '#', '.', '.', '#', '#', '.', '.', '#', '.', '.', '#', '.', '.', '#', '#', '.', '.', '.', '.', '#', '#', '.']\n",
            "['#', '.', '.', '#', '.', '#', '.', '.', '.', '.', '#', '.', '.', '.', '.', '.', '.', '.', '#', '.', '#', '.', '.', '#', '.', '#', '.', '.', '#', '.', '#', '.', '.', '#', '.', '.', '.', '.', '#', '.']\n",
            "['#', '.', '.', '#', '.', '#', '#', '#', '.', '.', '#', '#', '#', '.', '.', '.', '.', '#', '.', '.', '#', '.', '.', '.', '.', '#', '.', '.', '#', '.', '#', '.', '.', '.', '.', '.', '.', '.', '#', '.']\n",
            "['#', '.', '.', '#', '.', '#', '.', '.', '.', '.', '#', '.', '.', '.', '.', '.', '#', '.', '.', '.', '#', '.', '.', '.', '.', '#', '.', '.', '#', '.', '#', '.', '.', '.', '.', '.', '.', '.', '#', '.']\n",
            "['#', '.', '.', '#', '.', '#', '.', '.', '.', '.', '#', '.', '.', '.', '.', '#', '.', '.', '.', '.', '#', '.', '.', '#', '.', '#', '.', '.', '#', '.', '#', '.', '.', '#', '.', '#', '.', '.', '#', '.']\n",
            "['.', '#', '#', '.', '.', '#', '#', '#', '#', '.', '#', '.', '.', '.', '.', '#', '#', '#', '#', '.', '.', '#', '#', '.', '.', '.', '#', '#', '.', '.', '.', '#', '#', '.', '.', '.', '#', '#', '.', '.']\n"
          ]
        }
      ]
    }
  ]
}