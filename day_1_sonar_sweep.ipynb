{
  "nbformat": 4,
  "nbformat_minor": 0,
  "metadata": {
    "colab": {
      "name": "Solutions",
      "provenance": [],
      "collapsed_sections": [],
      "mount_file_id": "1yEYGMWt05b3ks5dlEGgNLsDSugmpSl8e",
      "authorship_tag": "ABX9TyOl0yMcELdsXtJgHkhrw+zx"
    },
    "kernelspec": {
      "name": "python3",
      "display_name": "Python 3"
    },
    "language_info": {
      "name": "python"
    }
  },
  "cells": [
    {
      "cell_type": "code",
      "execution_count": 49,
      "metadata": {
        "id": "hbfr1C9khMwe",
        "colab": {
          "base_uri": "https://localhost:8080/"
        },
        "outputId": "2c2e1847-4b25-4b29-e87c-170188c4d157"
      },
      "outputs": [
        {
          "output_type": "stream",
          "name": "stdout",
          "text": [
            "Answer: 1139\n",
            "Answer: 1103\n"
          ]
        }
      ],
      "source": [
        "####################################################################################################\n",
        "### read and process\n",
        "\n",
        "# keep an example at hand\n",
        "lines = \"\"\"199\n",
        "200\n",
        "208\n",
        "210\n",
        "200\n",
        "207\n",
        "240\n",
        "269\n",
        "260\n",
        "263\"\"\"\n",
        "\n",
        "f = open(\"1.txt\", \"r\")\n",
        "lines = f.read()\n",
        "f.close()\n",
        "\n",
        "lines = lines.split(\"\\n\")\n",
        "lines = list(map(int, lines))\n",
        "# lines\n",
        "\n",
        "####################################################################################################\n",
        "### PART 1\n",
        "\n",
        "n = len(lines)\n",
        "\n",
        "# all directions initialiased as no change\n",
        "directions = [0] * n\n",
        "\n",
        "for i in range(1, n):\n",
        "\n",
        "    # rules for change upwards and downwards\n",
        "    directions[i] = 1 if lines[i - 1] < lines[i] else -1\n",
        "\n",
        "# directions\n",
        "ans = directions.count(1)\n",
        "print(f\"Answer: { ans }\")\n",
        "\n",
        "####################################################################################################\n",
        "### PART 2\n",
        "\n",
        "# init 3-window sums : calculate first, set the rest to 0, mind the limit\n",
        "sums = [ sum(lines[:3]) ] + [0] * (n - 2)\n",
        "\n",
        "# same approach here\n",
        "directions = [0] * (n - 2)\n",
        "\n",
        "for i in range(1, n - 2):\n",
        "\n",
        "    # calculate window\n",
        "    sums[i] = sum(lines[i : i + 3])\n",
        "\n",
        "    # check change\n",
        "    directions[i] = 1 if sums[i - 1] < sums[i] else -1\n",
        "\n",
        "# directions\n",
        "ans = directions.count(1)\n",
        "print(f\"Answer: { ans }\")"
      ]
    }
  ]
}