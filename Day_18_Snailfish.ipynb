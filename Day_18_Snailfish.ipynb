{
  "nbformat": 4,
  "nbformat_minor": 0,
  "metadata": {
    "colab": {
      "name": "--- Day 18: Snailfish ---",
      "provenance": [],
      "collapsed_sections": [],
      "authorship_tag": "ABX9TyPphv7t/uz/PVI0c1iUpUz0",
      "include_colab_link": true
    },
    "kernelspec": {
      "name": "python3",
      "display_name": "Python 3"
    },
    "language_info": {
      "name": "python"
    }
  },
  "cells": [
    {
      "cell_type": "markdown",
      "metadata": {
        "id": "view-in-github",
        "colab_type": "text"
      },
      "source": [
        "<a href=\"https://colab.research.google.com/github/Anthei0774/Advent-of-Code-2021/blob/main/Day_18_Snailfish.ipynb\" target=\"_parent\"><img src=\"https://colab.research.google.com/assets/colab-badge.svg\" alt=\"Open In Colab\"/></a>"
      ]
    },
    {
      "cell_type": "markdown",
      "source": [
        "# https://adventofcode.com/2021/day/18"
      ],
      "metadata": {
        "id": "Rl4sPm3LkZU3"
      }
    },
    {
      "cell_type": "markdown",
      "source": [
        "# Part 1"
      ],
      "metadata": {
        "id": "ooKciELwn0MT"
      }
    },
    {
      "cell_type": "code",
      "source": [
        "def explode(line, verbose=False):\n",
        "\n",
        "    ll = len(line)\n",
        "    new_line = line\n",
        "\n",
        "    # search for exploding segments\n",
        "    mid_start = 0\n",
        "    while mid_start < ll:\n",
        "        prefix = line[: mid_start + 1]\n",
        "        if (prefix.count('[') - prefix.count(']') == 5):\n",
        "            break\n",
        "        mid_start += 1\n",
        "\n",
        "    if mid_start != ll:\n",
        "\n",
        "        # add end position to segment\n",
        "        mid_end = line.find(']', mid_start)\n",
        "    \n",
        "        mid = line[mid_start : mid_end + 1]\n",
        "        if verbose: print('Exploding:', mid)\n",
        "\n",
        "        # searching for the first digit on the left\n",
        "        left_end = mid_start - 1\n",
        "        while line[left_end] in ['[', ']', ',']:\n",
        "            left_end -= 1\n",
        "            if left_end == -1:\n",
        "                break\n",
        "        # if left_end != -1: print('Left:', line[: left_end + 1])\n",
        "\n",
        "        # same search on the right\n",
        "        right_start = mid_end + 1\n",
        "        while line[right_start] in ['[', ']', ',']:\n",
        "            right_start += 1\n",
        "            if right_start == ll:\n",
        "                break\n",
        "        # if right_start != ll: print('Right:', line[right_start - 1 :])\n",
        "            \n",
        "        # restructuring the line\n",
        "        new_line = ''\n",
        "\n",
        "        # left side\n",
        "        if left_end != -1:\n",
        "\n",
        "            # see if a 2 digit number found on the left\n",
        "            left_digit2 = (line[left_end - 1] not in ['[', ']', ','])\n",
        "            new_line += line[: left_end - left_digit2]\n",
        "\n",
        "            n = int(line[left_end - left_digit2 : left_end + 1])\n",
        "\n",
        "            # see if a 2 digit number found on the middle-left\n",
        "            mid_digit2 = (mid[2] not in ['[', ']', ','])\n",
        "            n += int(mid[1 : 2 + mid_digit2])\n",
        "\n",
        "            new_line += str(n)\n",
        "\n",
        "            # add text in between \n",
        "            new_line += line[left_end + 1 : mid_start]\n",
        "                \n",
        "        else:\n",
        "            new_line += line[: mid_start]\n",
        "\n",
        "        # middle segment\n",
        "        new_line += '0'\n",
        "\n",
        "        # right side\n",
        "        if right_start != ll:\n",
        "            new_line += line[mid_end + 1 : right_start]\n",
        "\n",
        "            right_digit2 = (line[right_start + 1] not in ['[', ']', ','])\n",
        "            n = int(line[right_start : right_start + right_digit2 + 1])\n",
        "\n",
        "            # see if a 2 digit number found on the middle-left\n",
        "            comma_pos = mid.find(',')\n",
        "            mid_digit2 = (mid[comma_pos + 2] not in ['[', ']', ','])\n",
        "            n += int(mid[comma_pos + 1 : comma_pos + 2 + mid_digit2])\n",
        "\n",
        "            new_line += str(n)\n",
        "\n",
        "            # remaining text between\n",
        "            new_line += line[right_start + right_digit2 + 1 :]\n",
        "\n",
        "        else:\n",
        "            new_line += line[mid_end + 1 :]\n",
        "\n",
        "    return new_line\n",
        "\n",
        "################################################################################\n",
        "\n",
        "def split(line, verbose=False):\n",
        "\n",
        "    # print('Line:', line)\n",
        "    ll = len(line)\n",
        "    new_line = line\n",
        "\n",
        "    # search for split criteria\n",
        "    i = 0\n",
        "    while i < ll - 1:\n",
        "        if (line[i] not in ['[', ']', ',']) and (line[i + 1] not in ['[', ']', ',']):\n",
        "            break\n",
        "        i += 1\n",
        "\n",
        "    # building up a new line\n",
        "    if i != ll - 1:\n",
        "        if verbose: print('Splitting:', line[i : i + 2])\n",
        "\n",
        "        # left\n",
        "        new_line = line[: i]\n",
        "\n",
        "        # middle\n",
        "        n = int(line[i : i + 2])\n",
        "        l = n // 2\n",
        "        r = n - l\n",
        "        new_line += ('[' + str(l) + ',' + str(r) + ']')\n",
        "\n",
        "        # right\n",
        "        new_line += line[i + 2 :]\n",
        "        if verbose: print('Split:', new_line)\n",
        "\n",
        "        # a split can generate an explosion - check\n",
        "        new_line = explode(new_line)\n",
        "        if verbose: print('Explode:', new_line, '\\n')\n",
        "\n",
        "    return new_line"
      ],
      "metadata": {
        "id": "nqaBaFVgbPnI"
      },
      "execution_count": null,
      "outputs": []
    },
    {
      "cell_type": "code",
      "source": [
        "# test explode against input example\n",
        "test = '''[[[[[9,8],1],2],3],4]\n",
        "[7,[6,[5,[4,[3,2]]]]]\n",
        "[[6,[5,[4,[3,2]]]],1]\n",
        "[[3,[2,[1,[7,3]]]],[6,[5,[4,[3,2]]]]]\n",
        "[[3,[2,[8,0]]],[9,[5,[4,[3,2]]]]]'''\n",
        "\n",
        "test = test.split('\\n')\n",
        "\n",
        "\n",
        "\n",
        "for line in test:\n",
        "\n",
        "    print('Line:', line)\n",
        "    fin_line = line\n",
        "\n",
        "    # explode until new line is generated\n",
        "    while True:\n",
        "        new_line = explode(fin_line)\n",
        "        if fin_line == new_line:\n",
        "            break\n",
        "\n",
        "        fin_line = new_line\n",
        "        print('New line:', fin_line)\n",
        "\n",
        "    print('\\n---\\n')"
      ],
      "metadata": {
        "id": "g-QaHW5lbPj1"
      },
      "execution_count": null,
      "outputs": []
    },
    {
      "cell_type": "code",
      "source": [
        "def add(line1, line2, verbose=False):\n",
        "\n",
        "    fin_line = '[' + line1 + ',' + line2 + ']'\n",
        "    if verbose: print('Addition:', fin_line, '\\n')\n",
        "\n",
        "    # explosion sweep through\n",
        "    while True:\n",
        "        new_line = explode(fin_line, verbose)\n",
        "        if fin_line == new_line:\n",
        "            break\n",
        "        fin_line = new_line\n",
        "        if verbose: print('Explode:', fin_line, '\\n')\n",
        "\n",
        "    # split / explosion sweep\n",
        "    while True:\n",
        "        new_line = split(fin_line, verbose)\n",
        "        if fin_line == new_line:\n",
        "            break\n",
        "        fin_line = new_line\n",
        "\n",
        "    return new_line\n",
        "\n",
        "\n",
        "\n",
        "# check again, now addition\n",
        "result = add('[[[[4,3],4],4],[7,[[8,4],9]]]', '[1,1]', True)"
      ],
      "metadata": {
        "id": "6PYo1tq3T5sT"
      },
      "execution_count": null,
      "outputs": []
    },
    {
      "cell_type": "code",
      "source": [
        "# moar testing\n",
        "test = '''[[[0,[4,5]],[0,0]],[[[4,5],[2,6]],[9,5]]]\n",
        "[7,[[[3,7],[4,3]],[[6,3],[8,8]]]]\n",
        "[[2,[[0,8],[3,4]]],[[[6,7],1],[7,[1,6]]]]\n",
        "[[[[2,4],7],[6,[0,5]]],[[[6,8],[2,8]],[[2,1],[4,5]]]]\n",
        "[7,[5,[[3,8],[1,4]]]]\n",
        "[[2,[2,2]],[8,[8,1]]]\n",
        "[2,9]\n",
        "[1,[[[9,3],9],[[9,0],[0,7]]]]\n",
        "[[[5,[7,4]],7],1]\n",
        "[[[[4,2],2],6],[8,7]]'''\n",
        "\n",
        "test = test.split('\\n')\n",
        "\n",
        "fin_line = test[0]\n",
        "\n",
        "for i in range(1, len(test)):\n",
        "    fin_line = add(fin_line, test[i])\n",
        "    print('Iter', i, '- line:', fin_line, '\\n')"
      ],
      "metadata": {
        "id": "pvvxJY_6T5po"
      },
      "execution_count": null,
      "outputs": []
    },
    {
      "cell_type": "code",
      "source": [
        "def reduce(line):\n",
        "    # print(line)\n",
        "\n",
        "    # single number case\n",
        "    if line.count(',') == 0:\n",
        "        return line\n",
        "\n",
        "    # single pair case\n",
        "    if line.count(',') == 1:\n",
        "        s = 0\n",
        "        nums = line[1 : -1].split(',')\n",
        "        nums = list(map(int, nums))\n",
        "        s += nums[0] * 3\n",
        "        s += nums[1] * 2\n",
        "        s = str(s)\n",
        "\n",
        "    # nested struct case\n",
        "    if line.count(',') >= 2:\n",
        "\n",
        "        # find middle separator comma\n",
        "        i = line.find(',')\n",
        "        prefix = line[: i]\n",
        "        while prefix.count('[') - prefix.count(']') != 1:\n",
        "            i = line.find(',', i + 1)\n",
        "            prefix = line[: i]\n",
        "        \n",
        "        # reduce structure left and right\n",
        "        left = reduce(line[1 : i])\n",
        "        right = reduce(line[i + 1 : -1])\n",
        "        s = '[' + left + ',' + right + ']'\n",
        "\n",
        "    # print(s)\n",
        "    return s"
      ],
      "metadata": {
        "id": "4MvczRPQT5nA"
      },
      "execution_count": null,
      "outputs": []
    },
    {
      "cell_type": "code",
      "source": [
        "# and some testing :)\n",
        "lines = '''[[1,2],[[3,4],5]]\n",
        "[[[[0,7],4],[[7,8],[6,0]]],[8,1]]\n",
        "[[[[1,1],[2,2]],[3,3]],[4,4]]\n",
        "[[[[3,0],[5,3]],[4,4]],[5,5]]\n",
        "[[[[5,0],[7,4]],[5,5]],[6,6]]'''\n",
        "\n",
        "lines = lines.split('\\n')\n",
        "\n",
        "for l in lines:\n",
        "\n",
        "    fin_line = l\n",
        "    c = fin_line.count(',')\n",
        "\n",
        "    while c != 0:\n",
        "        fin_line = reduce(fin_line)\n",
        "        c = fin_line.count(',')\n",
        "\n",
        "    print(l, fin_line)"
      ],
      "metadata": {
        "id": "ukrCrSNbm7Uk"
      },
      "execution_count": null,
      "outputs": []
    },
    {
      "cell_type": "code",
      "source": [
        "def do_homework(lines):\n",
        "    lines = lines.split('\\n')\n",
        "\n",
        "    # sequentially adding them together\n",
        "    fin_line = lines[0]\n",
        "    for i in range(1, len(lines)):\n",
        "        fin_line = add(fin_line, lines[i])\n",
        "    print('Final snailfish number:', fin_line)\n",
        "\n",
        "    c = fin_line.count(',')\n",
        "    while c != 0:\n",
        "        fin_line = reduce(fin_line)\n",
        "        c = fin_line.count(',')\n",
        "\n",
        "    print('Sum after reduction:', fin_line)"
      ],
      "metadata": {
        "id": "1fpKPK2hsvNZ"
      },
      "execution_count": null,
      "outputs": []
    },
    {
      "cell_type": "code",
      "source": [
        "# test against puzzle input\n",
        "with open('18.txt', 'r') as f:\n",
        "    puzzle_input = f.read()\n",
        "\n",
        "do_homework(puzzle_input)"
      ],
      "metadata": {
        "id": "y-Pm_uLfsvGC"
      },
      "execution_count": null,
      "outputs": []
    },
    {
      "cell_type": "markdown",
      "source": [
        "# Part 2"
      ],
      "metadata": {
        "id": "twpqpc19nxzU"
      }
    },
    {
      "cell_type": "code",
      "source": [
        "# executing a simple quadratic search for the highest magnitude\n",
        "def search(lines):\n",
        "    M = 0\n",
        "    M_i = -1\n",
        "    M_j = -1\n",
        "\n",
        "    # iterate with two indexek\n",
        "    for i in range(len(lines)):\n",
        "        for j in range(len(lines)):\n",
        "            if i != j:\n",
        "\n",
        "                # add lines together, calculate magnitude\n",
        "                line = add(lines[i], lines[j])\n",
        "\n",
        "                fin_line = line\n",
        "                c = fin_line.count(',')\n",
        "                while c != 0:\n",
        "                    fin_line = reduce(fin_line)\n",
        "                    c = fin_line.count(',')\n",
        "\n",
        "                m = int(fin_line)\n",
        "\n",
        "                # save max\n",
        "                if M < m:\n",
        "                    M = m\n",
        "                    M_i = i\n",
        "                    M_j = j\n",
        "\n",
        "    return M, M_i, M_j"
      ],
      "metadata": {
        "id": "AOwOrVQd2zes"
      },
      "execution_count": null,
      "outputs": []
    },
    {
      "cell_type": "code",
      "source": [
        "# testing, yeaaaah\n",
        "test = '''[[[0,[5,8]],[[1,7],[9,6]]],[[4,[1,2]],[[1,4],2]]]\n",
        "[[[5,[2,8]],4],[5,[[9,9],0]]]\n",
        "[6,[[[6,2],[5,6]],[[7,6],[4,7]]]]\n",
        "[[[6,[0,7]],[0,9]],[4,[9,[9,0]]]]\n",
        "[[[7,[6,4]],[3,[1,3]]],[[[5,5],1],9]]\n",
        "[[6,[[7,3],[3,2]]],[[[3,8],[5,7]],4]]\n",
        "[[[[5,4],[7,7]],8],[[8,3],8]]\n",
        "[[9,3],[[9,9],[6,[4,9]]]]\n",
        "[[2,[[7,7],7]],[[5,8],[[9,3],[0,2]]]]\n",
        "[[[[5,2],5],[8,[3,7]]],[[5,[7,5]],[4,4]]]'''\n",
        "\n",
        "test = test.split('\\n')\n",
        "\n",
        "M, M_i, M_j = search(test)\n",
        "\n",
        "print('Left:', test[M_i], '\\n')\n",
        "\n",
        "print('Right:', test[M_j], '\\n')\n",
        "\n",
        "print('Value:', M)"
      ],
      "metadata": {
        "id": "qXKsTRWVoJEr"
      },
      "execution_count": null,
      "outputs": []
    },
    {
      "cell_type": "code",
      "source": [
        "# finally\n",
        "test = puzzle_input.split('\\n')\n",
        "\n",
        "M, M_i, M_j = search(test)\n",
        "\n",
        "print('Left:', test[M_i], '\\n')\n",
        "\n",
        "print('Right:', test[M_j], '\\n')\n",
        "\n",
        "print('Value:', M)"
      ],
      "metadata": {
        "id": "dtjDPPiJp6nW"
      },
      "execution_count": null,
      "outputs": []
    }
  ]
}