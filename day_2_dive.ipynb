{
  "nbformat": 4,
  "nbformat_minor": 0,
  "metadata": {
    "colab": {
      "name": "Solutions",
      "provenance": [],
      "collapsed_sections": [],
      "mount_file_id": "1yEYGMWt05b3ks5dlEGgNLsDSugmpSl8e",
      "authorship_tag": "ABX9TyOzETMC5ZndaPpV9lE3eDLQ"
    },
    "kernelspec": {
      "name": "python3",
      "display_name": "Python 3"
    },
    "language_info": {
      "name": "python"
    }
  },
  "cells": [
    {
      "cell_type": "code",
      "execution_count": 48,
      "metadata": {
        "id": "hbfr1C9khMwe",
        "colab": {
          "base_uri": "https://localhost:8080/"
        },
        "outputId": "61c455ce-a378-4252-e150-f5808520e51b"
      },
      "outputs": [
        {
          "output_type": "stream",
          "name": "stdout",
          "text": [
            "Answer: 1938402\n",
            "Answer: 1947878632\n"
          ]
        }
      ],
      "source": [
        "####################################################################################################\n",
        "### read and process\n",
        "\n",
        "# keep an example at hand\n",
        "lines = \"\"\"forward 5\n",
        "down 5\n",
        "forward 8\n",
        "up 3\n",
        "down 8\n",
        "forward 2\"\"\"\n",
        "\n",
        "f = open(\"2.txt\", \"r\")\n",
        "lines = f.read()\n",
        "f.close()\n",
        "\n",
        "\n",
        "lines = lines.split(\"\\n\")\n",
        "lines = [ l.split(\" \") for l in lines ]\n",
        "lines = [ ( l[0], int(l[1]) ) for l in lines ]\n",
        "# lines\n",
        "\n",
        "####################################################################################################\n",
        "### PART 1\n",
        "\n",
        "# set initial horizontal and vertical pos\n",
        "x = 0\n",
        "y = 0\n",
        "\n",
        "# process commands, one-by-one\n",
        "for l in lines:\n",
        "    if l[0] == \"forward\":\n",
        "        x += l[1]\n",
        "    if l[0] == \"down\":\n",
        "        y += l[1]\n",
        "    if l[0] == \"up\":\n",
        "        y -= l[1]\n",
        "\n",
        "# answer\n",
        "ans = x * y\n",
        "print(f\"Answer: { ans }\")\n",
        "\n",
        "####################################################################################################\n",
        "### PART 2\n",
        "\n",
        "# same as previous, set aim too\n",
        "x = 0\n",
        "y = 0\n",
        "a = 0\n",
        "\n",
        "# modified process\n",
        "for l in lines:\n",
        "    if l[0] == \"forward\":\n",
        "        x += l[1]\n",
        "        y += l[1] * a\n",
        "    if l[0] == \"down\":\n",
        "        a += l[1]\n",
        "    if l[0] == \"up\":\n",
        "        a -= l[1]\n",
        "\n",
        "# answer\n",
        "ans = x * y\n",
        "print(f\"Answer: { ans }\")"
      ]
    }
  ]
}