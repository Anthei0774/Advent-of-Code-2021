{
  "nbformat": 4,
  "nbformat_minor": 0,
  "metadata": {
    "colab": {
      "name": "Solutions",
      "provenance": [],
      "collapsed_sections": [],
      "mount_file_id": "1yEYGMWt05b3ks5dlEGgNLsDSugmpSl8e",
      "authorship_tag": "ABX9TyPJDIL4KLeuq2IOv2ZyuzdM",
      "include_colab_link": true
    },
    "kernelspec": {
      "name": "python3",
      "display_name": "Python 3"
    },
    "language_info": {
      "name": "python"
    }
  },
  "cells": [
    {
      "cell_type": "markdown",
      "metadata": {
        "id": "view-in-github",
        "colab_type": "text"
      },
      "source": [
        "<a href=\"https://colab.research.google.com/github/Anthei0774/Advent-of-Code-2021/blob/main/day_9_smoke_basin.ipynb\" target=\"_parent\"><img src=\"https://colab.research.google.com/assets/colab-badge.svg\" alt=\"Open In Colab\"/></a>"
      ]
    },
    {
      "cell_type": "code",
      "execution_count": 46,
      "metadata": {
        "id": "hbfr1C9khMwe",
        "colab": {
          "base_uri": "https://localhost:8080/"
        },
        "outputId": "defa7fea-85ea-4694-c882-a8bbabc82593"
      },
      "outputs": [
        {
          "output_type": "stream",
          "name": "stdout",
          "text": [
            "Answer: 562\n",
            "Answer: 1076922\n"
          ]
        }
      ],
      "source": [
        "####################################################################################################\n",
        "### read & process\n",
        "\n",
        "lines = \"\"\"2199943210\n",
        "3987894921\n",
        "9856789892\n",
        "8767896789\n",
        "9899965678\"\"\"\n",
        "\n",
        "f = open(\"9.txt\")\n",
        "lines = f.read()\n",
        "f.close()\n",
        "\n",
        "lines = lines.split(\"\\n\")\n",
        "lines = [ list(l) for l in lines ]\n",
        "lines = [ list(map(int, l)) for l in lines ]\n",
        "lines\n",
        "\n",
        "####################################################################################################\n",
        "### PART 1\n",
        "\n",
        "regions = [] # save local minima points for part 2\n",
        "\n",
        "ans = 0\n",
        "\n",
        "# iterate through all points in rows and columns\n",
        "for i in range(len(lines)):\n",
        "    for j in range(len(lines[i])):\n",
        "\n",
        "        # generate neighbouring points\n",
        "        u = 0 if i - 1 < 0 else i - 1\n",
        "        d = len(lines) - 1 if i + 1 > len(lines) - 1 else i + 1\n",
        "        l = 0 if j - 1 < 0 else j - 1\n",
        "        r = len(lines[i]) - 1 if j + 1 > len(lines[i]) - 1 else j + 1\n",
        "        neighbours = [ (u, j), (d, j), (i, l), (i, r) ]\n",
        "\n",
        "        # remove self / selves\n",
        "        while (i, j) in neighbours: neighbours.remove( (i, j) )\n",
        "        # print( (i, j), neighbours )\n",
        "\n",
        "        # current point is set to True at init\n",
        "        loc_min = True\n",
        "\n",
        "        # compare neighbouring values with v\n",
        "        v1 = lines[i][j]\n",
        "        for c in neighbours:\n",
        "            v2 = lines[c[0]][c[1]]\n",
        "\n",
        "            # update loc_min status, break out in case of failure\n",
        "            loc_min = loc_min and (v1 < v2)\n",
        "            if not loc_min: break\n",
        "\n",
        "        # update ans in case of loc_min\n",
        "        if loc_min:\n",
        "            ans += (v1 + 1)\n",
        "            regions.append({ \"min_loc\" : (i, j) })\n",
        "\n",
        "print(\"Answer:\", ans)\n",
        "\n",
        "####################################################################################################\n",
        "### PART 2\n",
        "\n",
        "# for all loc_min coordinates\n",
        "for reg in regions:\n",
        "\n",
        "    # init covered and not covered arrays\n",
        "    not_covered = [ reg[\"min_loc\"] ]\n",
        "    covered = []\n",
        "\n",
        "    # while there is a point not covered\n",
        "    while len(not_covered) != 0:\n",
        "\n",
        "        (i, j) = not_covered[0]\n",
        "        \n",
        "        # calculate neighbours\n",
        "        u = 0 if i - 1 < 0 else i - 1\n",
        "        d = len(lines) - 1 if i + 1 > len(lines) - 1 else i + 1\n",
        "        l = 0 if j - 1 < 0 else j - 1\n",
        "        r = len(lines[i]) - 1 if j + 1 > len(lines[i]) - 1 else j + 1\n",
        "\n",
        "        # for each neighbour => push it to not covered if not already covered, not already pushed, and value < 9\n",
        "        if ( lines[u][j] < 9 ) and ( (u, j) not in covered ) and ( (u, j) not in not_covered ):\n",
        "            not_covered.append( (u, j) )\n",
        "        if ( lines[d][j] < 9 ) and ( (d, j) not in covered ) and ( (d, j) not in not_covered ):\n",
        "            not_covered.append( (d, j) )\n",
        "        if ( lines[i][l] < 9 ) and ( (i, l) not in covered ) and ( (i, l) not in not_covered ):\n",
        "            not_covered.append( (i, l) )\n",
        "        if ( lines[i][r] < 9 ) and ( (i, r) not in covered ) and ( (i, r) not in not_covered ):\n",
        "            not_covered.append( (i, r) )\n",
        "\n",
        "        # mark current pos covered, and pop\n",
        "        covered.append( (i, j) )\n",
        "        not_covered.remove( (i, j) )\n",
        "\n",
        "    # final area is the len of covered points\n",
        "    reg[\"area\"] = len(covered)\n",
        "\n",
        "areas = sorted([ r[\"area\"] for r in regions ])\n",
        "ans = areas[-3] * areas[-2] * areas[-1]\n",
        "print(\"Answer:\", ans)"
      ]
    }
  ]
}