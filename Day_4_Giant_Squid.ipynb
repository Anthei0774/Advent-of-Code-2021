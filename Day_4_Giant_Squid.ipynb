{
  "nbformat": 4,
  "nbformat_minor": 0,
  "metadata": {
    "colab": {
      "name": "--- Day 4: Giant Squid ---",
      "provenance": [],
      "collapsed_sections": [],
      "mount_file_id": "130mvnK5sqTRCDWOsft58szuRBnsFN760",
      "authorship_tag": "ABX9TyM4/yaEQlWGPAl8tDoKp3K4",
      "include_colab_link": true
    },
    "kernelspec": {
      "name": "python3",
      "display_name": "Python 3"
    },
    "language_info": {
      "name": "python"
    }
  },
  "cells": [
    {
      "cell_type": "markdown",
      "metadata": {
        "id": "view-in-github",
        "colab_type": "text"
      },
      "source": [
        "<a href=\"https://colab.research.google.com/github/Anthei0774/Advent-of-Code-2021/blob/main/Day_4_Giant_Squid.ipynb\" target=\"_parent\"><img src=\"https://colab.research.google.com/assets/colab-badge.svg\" alt=\"Open In Colab\"/></a>"
      ]
    },
    {
      "cell_type": "code",
      "execution_count": 45,
      "metadata": {
        "colab": {
          "base_uri": "https://localhost:8080/"
        },
        "id": "Ut0Hren059rg",
        "outputId": "0a72c629-70a0-4050-afb7-ef98e71179d7"
      },
      "outputs": [
        {
          "output_type": "stream",
          "name": "stdout",
          "text": [
            "Numbers: ['7', '4', '9', '5', '11', '17', '23', '2', '0', '14', '21', '24', '10', '16', '13', '6', '15', '25', '12', '22', '18', '20', '8', '19', '3', '26', '1'] \n",
            "\n"
          ]
        },
        {
          "output_type": "execute_result",
          "data": {
            "text/plain": [
              "[[['22', '13', '17', '11', '0'],\n",
              "  ['8', '2', '23', '4', '24'],\n",
              "  ['21', '9', '14', '16', '7'],\n",
              "  ['6', '10', '3', '18', '5'],\n",
              "  ['1', '12', '20', '15', '19']],\n",
              " [['3', '15', '0', '2', '22'],\n",
              "  ['9', '18', '13', '17', '5'],\n",
              "  ['19', '8', '7', '25', '23'],\n",
              "  ['20', '11', '10', '24', '4'],\n",
              "  ['14', '21', '16', '12', '6']],\n",
              " [['14', '21', '17', '24', '4'],\n",
              "  ['10', '16', '15', '9', '19'],\n",
              "  ['18', '8', '23', '26', '20'],\n",
              "  ['22', '11', '13', '6', '5'],\n",
              "  ['2', '0', '12', '3', '7']]]"
            ]
          },
          "metadata": {},
          "execution_count": 45
        }
      ],
      "source": [
        "puzzle = '''7,4,9,5,11,17,23,2,0,14,21,24,10,16,13,6,15,25,12,22,18,20,8,19,3,26,1\n",
        "\n",
        "22 13 17 11  0\n",
        " 8  2 23  4 24\n",
        "21  9 14 16  7\n",
        " 6 10  3 18  5\n",
        " 1 12 20 15 19\n",
        "\n",
        " 3 15  0  2 22\n",
        " 9 18 13 17  5\n",
        "19  8  7 25 23\n",
        "20 11 10 24  4\n",
        "14 21 16 12  6\n",
        "\n",
        "14 21 17 24  4\n",
        "10 16 15  9 19\n",
        "18  8 23 26 20\n",
        "22 11 13  6  5\n",
        " 2  0 12  3  7'''\n",
        "\n",
        "# with open('4.txt') as f:\n",
        "#     puzzle = f.read()\n",
        "\n",
        "################################################################################\n",
        "# process puzzle input\n",
        "\n",
        "puzzle = puzzle.split('\\n')\n",
        "\n",
        "numbers = puzzle[0]\n",
        "numbers = numbers.split(',')\n",
        "print('Numbers:', numbers, '\\n')\n",
        "\n",
        "boards = []\n",
        "i = 1\n",
        "while i != len(puzzle):\n",
        "\n",
        "    b = puzzle[i + 1 : i + 6]\n",
        "    b = [line.split(' ') for line in b]\n",
        "    b = [[n for n in line if n != ''] for line in b]\n",
        "    # print(b)\n",
        "    boards.append(b)\n",
        "\n",
        "    i += 6\n",
        "\n",
        "boards"
      ]
    },
    {
      "cell_type": "code",
      "source": [
        "# check board rows and columns for a completed line\n",
        "def check(b):\n",
        "\n",
        "    for i in range(5):\n",
        "        if b[i].count('X') == 5:\n",
        "            return True\n",
        "    \n",
        "    for j in range(5):\n",
        "        if [b[i][j] for i in range(5)].count('X') == 5:\n",
        "            return True\n",
        "\n",
        "    return False\n",
        "\n",
        "################################################################################\n",
        "\n",
        "# until somebody wins = first winner\n",
        "win = False\n",
        "\n",
        "# start 'calling' the numbers \n",
        "for n in numbers:\n",
        "\n",
        "    # update a board\n",
        "    for b in boards:\n",
        "        for line in b:\n",
        "            if n in line:\n",
        "                line[line.index(n)] = 'X'\n",
        "\n",
        "                # check if mark complete a line, break if True\n",
        "                if check(b):\n",
        "                    win = True\n",
        "                    idx = boards.index(b)\n",
        "                    print('Winner board:', idx + 1)\n",
        "                    break\n",
        "\n",
        "        # break out from all loops      \n",
        "        if win: break\n",
        "    if win: break\n",
        "\n",
        "################################################################################\n",
        "\n",
        "# sum the unmarked numbers on the winning board\n",
        "unmarked = []\n",
        "for line in b:\n",
        "    for num in line:\n",
        "        if num != 'X': unmarked.append(num)\n",
        "\n",
        "unmarked = list(map(int, unmarked))\n",
        "sum(unmarked) * int(n)"
      ],
      "metadata": {
        "colab": {
          "base_uri": "https://localhost:8080/"
        },
        "id": "A70m-TZ5EWzK",
        "outputId": "860c14e8-b9dc-4f21-f56d-14e4151d157a"
      },
      "execution_count": 46,
      "outputs": [
        {
          "output_type": "stream",
          "name": "stdout",
          "text": [
            "Winner board: 3\n"
          ]
        },
        {
          "output_type": "execute_result",
          "data": {
            "text/plain": [
              "4512"
            ]
          },
          "metadata": {},
          "execution_count": 46
        }
      ]
    },
    {
      "cell_type": "markdown",
      "source": [
        "# Part 2"
      ],
      "metadata": {
        "id": "xBgAhaigEQoa"
      }
    },
    {
      "cell_type": "code",
      "source": [
        "# re-read boards to remove X-s from part 1\n",
        "boards = []\n",
        "i = 1\n",
        "while i != len(puzzle):\n",
        "\n",
        "    b = puzzle[i + 1 : i + 6]\n",
        "    b = [line.split(' ') for line in b]\n",
        "    b = [[n for n in line if n != ''] for line in b]\n",
        "    # print(b)\n",
        "    boards.append(b)\n",
        "\n",
        "    i += 6\n",
        "\n",
        "# create new structure for boards for finding 'last winner'\n",
        "boards = [ {\"board\": b, \"winner\": False} for b in boards ]\n",
        "boards"
      ],
      "metadata": {
        "colab": {
          "base_uri": "https://localhost:8080/"
        },
        "id": "tvLFkC2MEQIq",
        "outputId": "7507e485-a3d4-4e9c-be0c-bea939d70ef4"
      },
      "execution_count": 52,
      "outputs": [
        {
          "output_type": "execute_result",
          "data": {
            "text/plain": [
              "[{'board': [['22', '13', '17', '11', '0'],\n",
              "   ['8', '2', '23', '4', '24'],\n",
              "   ['21', '9', '14', '16', '7'],\n",
              "   ['6', '10', '3', '18', '5'],\n",
              "   ['1', '12', '20', '15', '19']],\n",
              "  'winner': False},\n",
              " {'board': [['3', '15', '0', '2', '22'],\n",
              "   ['9', '18', '13', '17', '5'],\n",
              "   ['19', '8', '7', '25', '23'],\n",
              "   ['20', '11', '10', '24', '4'],\n",
              "   ['14', '21', '16', '12', '6']],\n",
              "  'winner': False},\n",
              " {'board': [['14', '21', '17', '24', '4'],\n",
              "   ['10', '16', '15', '9', '19'],\n",
              "   ['18', '8', '23', '26', '20'],\n",
              "   ['22', '11', '13', '6', '5'],\n",
              "   ['2', '0', '12', '3', '7']],\n",
              "  'winner': False}]"
            ]
          },
          "metadata": {},
          "execution_count": 52
        }
      ]
    },
    {
      "cell_type": "code",
      "source": [
        "# new loop - runs until last winner is found\n",
        "end = False\n",
        "idx = 0\n",
        "while not end:\n",
        "\n",
        "    # same logic = filling + checking\n",
        "    n = numbers[idx]\n",
        "    for b in boards:\n",
        "        for line in b['board']:\n",
        "            if n in line:\n",
        "                line[line.index(n)] = 'X'\n",
        "                b['winner'] = check(b['board'])\n",
        "\n",
        "    # only 1 loser remains - break\n",
        "    wins = [ b['winner'] for b in boards ]\n",
        "    end = sum(wins) == len(boards) - 1\n",
        "    idx += 1\n",
        "\n",
        "################################################################################\n",
        "\n",
        "# continue filling-checking the loser board\n",
        "b = [ b['board'] for b in boards if not b['winner'] ][0]\n",
        "\n",
        "end = False\n",
        "for i in range(idx, len(numbers)):\n",
        "    \n",
        "    n = numbers[i]\n",
        "    for line in b:\n",
        "        if n in line:\n",
        "            line[line.index(n)] = \"X\"\n",
        "            if check(b):\n",
        "                end = True\n",
        "                break\n",
        "\n",
        "    if end: break\n",
        "\n",
        "################################################################################\n",
        "\n",
        "# if finished, calculate sum of unmarked\n",
        "unmarked = []\n",
        "for line in b:\n",
        "    for num in line:\n",
        "        if num != \"X\": unmarked.append(num)\n",
        "\n",
        "unmarked = list(map(int, unmarked))\n",
        "sum(unmarked) * int(n)"
      ],
      "metadata": {
        "colab": {
          "base_uri": "https://localhost:8080/"
        },
        "id": "PvUpXJH47IHe",
        "outputId": "34955902-883a-42be-85d5-0506e3de5c77"
      },
      "execution_count": 53,
      "outputs": [
        {
          "output_type": "execute_result",
          "data": {
            "text/plain": [
              "1924"
            ]
          },
          "metadata": {},
          "execution_count": 53
        }
      ]
    }
  ]
}