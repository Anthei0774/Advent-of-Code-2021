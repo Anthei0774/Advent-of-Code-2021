{
  "nbformat": 4,
  "nbformat_minor": 0,
  "metadata": {
    "colab": {
      "name": "Solutions",
      "provenance": [],
      "collapsed_sections": [],
      "mount_file_id": "1yEYGMWt05b3ks5dlEGgNLsDSugmpSl8e",
      "authorship_tag": "ABX9TyN5Z9oDZt1ogiuuXdTl8rVO",
      "include_colab_link": true
    },
    "kernelspec": {
      "name": "python3",
      "display_name": "Python 3"
    },
    "language_info": {
      "name": "python"
    }
  },
  "cells": [
    {
      "cell_type": "markdown",
      "metadata": {
        "id": "view-in-github",
        "colab_type": "text"
      },
      "source": [
        "<a href=\"https://colab.research.google.com/github/Anthei0774/Advent-of-Code-2021/blob/main/day_10_syntax_scoring.ipynb\" target=\"_parent\"><img src=\"https://colab.research.google.com/assets/colab-badge.svg\" alt=\"Open In Colab\"/></a>"
      ]
    },
    {
      "cell_type": "code",
      "execution_count": 62,
      "metadata": {
        "id": "hbfr1C9khMwe",
        "colab": {
          "base_uri": "https://localhost:8080/"
        },
        "outputId": "c179e599-2e27-4215-dc31-d9693bd72b02"
      },
      "outputs": [
        {
          "output_type": "stream",
          "name": "stdout",
          "text": [
            "Answer: 311949\n",
            "Answer: 3042730309\n"
          ]
        }
      ],
      "source": [
        "####################################################################################################\n",
        "### read & process\n",
        "\n",
        "lines = \"\"\"[({(<(())[]>[[{[]{<()<>>\n",
        "[(()[<>])]({[<{<<[]>>(\n",
        "{([(<{}[<>[]}>{[]{[(<()>\n",
        "(((({<>}<{<{<>}{[]{[]{}\n",
        "[[<[([]))<([[{}[[()]]]\n",
        "[{[{({}]{}}([{[{{{}}([]\n",
        "{<[[]]>}<{[{[{[]{()[[[]\n",
        "[<(<(<(<{}))><([]([]()\n",
        "<{([([[(<>()){}]>(<<{{\n",
        "<{([{{}}[<[[[<>{}]]]>[]]\"\"\"\n",
        "\n",
        "f = open(\"10.txt\")\n",
        "lines = f.read()\n",
        "f.close()\n",
        "\n",
        "lines = lines.split(\"\\n\")\n",
        "lines = [ list(l) for l in lines ]\n",
        "lines\n",
        "\n",
        "####################################################################################################\n",
        "### PART 1\n",
        "\n",
        "# static mappers from the description\n",
        "matching = { \"(\" : \")\", \"[\" : \"]\", \"{\" : \"}\", \"<\" : \">\"}\n",
        "illegal_scores = { \")\" : 3, \"]\" : 57, \"}\" : 1197, \">\" : 25137 }\n",
        "\n",
        "# calculate sum of illegal line scores\n",
        "ans = 0\n",
        "incomplete = [] # saving incomplete, but not corrupted lines for task 2\n",
        "\n",
        "for idx, l in enumerate(lines):\n",
        "\n",
        "    # mark line as not corrupt at start\n",
        "    corrupted = False\n",
        "\n",
        "    # iterate over line indices\n",
        "    i = 0\n",
        "    while not corrupted:\n",
        "\n",
        "        # if can reach the end without corrupt alarms, then incomplete, push to the end\n",
        "        if i == len(l):\n",
        "            # print(idx, \": line is not corrupted.\")\n",
        "            incomplete.append(l)\n",
        "            break\n",
        "\n",
        "        # in each step index: either move starting parenthesis\n",
        "        if l[i] in [\"(\", \"[\", \"{\", \"<\"]:\n",
        "            start = l[i]\n",
        "        else:\n",
        "\n",
        "            # or match closing parenthesis with start\n",
        "            end = l[i]\n",
        "\n",
        "            if matching[start] != end:\n",
        "                corrupted = True\n",
        "                ans += illegal_scores[end]\n",
        "                # print(idx, \": expected\", matching[start], \"but got\", end)\n",
        "\n",
        "            else:\n",
        "\n",
        "                # not corrupt at this point, remove the two matching parenthesis from inside\n",
        "                l = l[ : i - 1] + l[i + 1 : ]\n",
        "\n",
        "                i = -1 # laziness-simplicity here, in order not to get lost in indexing stuff\n",
        "\n",
        "        i += 1\n",
        "\n",
        "print(\"Answer:\", ans)\n",
        "\n",
        "\n",
        "\n",
        "####################################################################################################\n",
        "### PART 2\n",
        "\n",
        "# restructure incomplete lines, add 0 score at start\n",
        "incomplete = { \"\".join(l) : 0 for l in incomplete }\n",
        "\n",
        "# static mapper again\n",
        "complete_scores = { \")\" : 1, \"]\" : 2, \"}\" : 3, \">\" : 4 }\n",
        "\n",
        "# reverse and incomplete line, and calculate its score\n",
        "for l in incomplete:\n",
        "    for c in l[::-1]:\n",
        "        incomplete[l] *= 5\n",
        "        incomplete[l] += complete_scores[matching[c]]\n",
        "\n",
        "# finally, select the median\n",
        "incomplete = list(incomplete.values())\n",
        "incomplete = sorted(incomplete)\n",
        "\n",
        "ans = incomplete[ len(incomplete) // 2]\n",
        "print(\"Answer:\", ans)"
      ]
    }
  ]
}