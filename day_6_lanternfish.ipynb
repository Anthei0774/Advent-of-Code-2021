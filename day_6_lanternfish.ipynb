{
  "nbformat": 4,
  "nbformat_minor": 0,
  "metadata": {
    "colab": {
      "name": "Solutions",
      "provenance": [],
      "collapsed_sections": [],
      "mount_file_id": "1yEYGMWt05b3ks5dlEGgNLsDSugmpSl8e",
      "authorship_tag": "ABX9TyNq75z9LSdGVxkOT6XuhHNd",
      "include_colab_link": true
    },
    "kernelspec": {
      "name": "python3",
      "display_name": "Python 3"
    },
    "language_info": {
      "name": "python"
    }
  },
  "cells": [
    {
      "cell_type": "markdown",
      "metadata": {
        "id": "view-in-github",
        "colab_type": "text"
      },
      "source": [
        "<a href=\"https://colab.research.google.com/github/Anthei0774/Advent-of-Code-2021/blob/main/day_6_lanternfish.ipynb\" target=\"_parent\"><img src=\"https://colab.research.google.com/assets/colab-badge.svg\" alt=\"Open In Colab\"/></a>"
      ]
    },
    {
      "cell_type": "code",
      "execution_count": 13,
      "metadata": {
        "id": "hbfr1C9khMwe",
        "colab": {
          "base_uri": "https://localhost:8080/"
        },
        "outputId": "42dabd8e-33c3-45ea-b105-b96bcf966b7a"
      },
      "outputs": [
        {
          "output_type": "stream",
          "name": "stdout",
          "text": [
            "Answer: 387413\n",
            "Answer: 1738377086345\n"
          ]
        }
      ],
      "source": [
        "####################################################################################################\n",
        "### read and process\n",
        "\n",
        "# keep an example at hand\n",
        "lines = \"\"\"3,4,3,1,2\"\"\"\n",
        "\n",
        "f = open(\"6.txt\", \"r\")\n",
        "lines = f.read()\n",
        "f.close()\n",
        "\n",
        "lines = lines.split(\",\")\n",
        "lines = list(map(int, lines))\n",
        "\n",
        "current = lines.copy()\n",
        "\n",
        "####################################################################################################\n",
        "### PART 1\n",
        "\n",
        "for day in range(80):\n",
        "\n",
        "    add = []\n",
        "    for i in range(len(current)):\n",
        "        if current[i] == 0:\n",
        "            current[i] = 6\n",
        "            add.append(8)\n",
        "        else:\n",
        "            current[i] -= 1\n",
        "\n",
        "    current += add\n",
        "\n",
        "ans = len(current)\n",
        "print(\"Answer:\", ans)\n",
        "\n",
        "####################################################################################################\n",
        "### PART 2\n",
        "\n",
        "### brute force solution does not work, gets super slow after day 150\n",
        "\n",
        "# current = lines.copy()\n",
        "# for day in range(256):\n",
        "#     print(day)\n",
        "#     add = []\n",
        "#     for i in range(len(current)):\n",
        "#         if current[i] == 0:\n",
        "#             current[i] = 6\n",
        "#             add.append(8)\n",
        "#         else:\n",
        "#             current[i] -= 1\n",
        "\n",
        "#     current += add\n",
        "\n",
        "### grouping fishes\n",
        "# now storing only 9 \"classes\" of fishes, based on how many days they have remaining to reproduce\n",
        "current = { i : lines.count(i) for i in range(9) }\n",
        "\n",
        "for day in range(256):\n",
        "\n",
        "    # next iteration container\n",
        "    next = { i : 0 for i in range(9) }\n",
        "\n",
        "    # roll through those fishes which wont reproduce today\n",
        "    for i in range(1, 9):\n",
        "        next[i - 1] = current[i]\n",
        "    \n",
        "    # reproducing fishes reset to 6 days, while adding the same amount to new-born, 8-day fishes\n",
        "    next[6] += current[0]\n",
        "    next[8] += current[0]\n",
        "\n",
        "    # copy and continue\n",
        "    current = next.copy()\n",
        "\n",
        "ans = sum(current.values())\n",
        "print(\"Answer:\", ans)"
      ]
    }
  ]
}