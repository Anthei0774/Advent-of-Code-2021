{
  "nbformat": 4,
  "nbformat_minor": 0,
  "metadata": {
    "colab": {
      "name": "--- Day 14: Extended Polymerization ---",
      "provenance": [],
      "collapsed_sections": [],
      "mount_file_id": "1_rpBcT9U6-Wh6WsyY8pwaawdnLPQh0jt",
      "authorship_tag": "ABX9TyMyR36fpi515JEBoslcqfY9",
      "include_colab_link": true
    },
    "kernelspec": {
      "name": "python3",
      "display_name": "Python 3"
    },
    "language_info": {
      "name": "python"
    }
  },
  "cells": [
    {
      "cell_type": "markdown",
      "metadata": {
        "id": "view-in-github",
        "colab_type": "text"
      },
      "source": [
        "<a href=\"https://colab.research.google.com/github/Anthei0774/Advent-of-Code-2021/blob/main/Day_14_Extended_Polymerization.ipynb\" target=\"_parent\"><img src=\"https://colab.research.google.com/assets/colab-badge.svg\" alt=\"Open In Colab\"/></a>"
      ]
    },
    {
      "cell_type": "markdown",
      "source": [
        "# https://adventofcode.com/2021/day/14"
      ],
      "metadata": {
        "id": "GSwqBoyyqNbC"
      }
    },
    {
      "cell_type": "code",
      "source": [
        "puzzle = '''NNCB\n",
        "\n",
        "CH -> B\n",
        "HH -> N\n",
        "CB -> H\n",
        "NH -> C\n",
        "HB -> C\n",
        "HC -> B\n",
        "HN -> C\n",
        "NN -> C\n",
        "BH -> H\n",
        "NC -> B\n",
        "NB -> B\n",
        "BN -> B\n",
        "BB -> N\n",
        "BC -> B\n",
        "CC -> N\n",
        "CN -> C'''\n",
        "\n",
        "# with open('14.txt') as f:\n",
        "#     puzzle = f.read()\n",
        "\n",
        "################################################################################\n",
        "\n",
        "puzzle = puzzle.split('\\n')\n",
        "\n",
        "polymer_template = puzzle[0]\n",
        "print('Polymer template:', polymer_template)\n",
        "\n",
        "pairs = { l.split(' ')[0] : l.split(' ')[2] for l in puzzle[2:] }\n",
        "pairs"
      ],
      "metadata": {
        "colab": {
          "base_uri": "https://localhost:8080/"
        },
        "id": "6RQHHixofmwT",
        "outputId": "46bb4f2b-783f-45e5-87a5-807cc38f5cb1"
      },
      "execution_count": 1,
      "outputs": [
        {
          "output_type": "stream",
          "name": "stdout",
          "text": [
            "Polymer template: NNCB\n"
          ]
        },
        {
          "output_type": "execute_result",
          "data": {
            "text/plain": [
              "{'BB': 'N',\n",
              " 'BC': 'B',\n",
              " 'BH': 'H',\n",
              " 'BN': 'B',\n",
              " 'CB': 'H',\n",
              " 'CC': 'N',\n",
              " 'CH': 'B',\n",
              " 'CN': 'C',\n",
              " 'HB': 'C',\n",
              " 'HC': 'B',\n",
              " 'HH': 'N',\n",
              " 'HN': 'C',\n",
              " 'NB': 'B',\n",
              " 'NC': 'B',\n",
              " 'NH': 'C',\n",
              " 'NN': 'C'}"
            ]
          },
          "metadata": {},
          "execution_count": 1
        }
      ]
    },
    {
      "cell_type": "markdown",
      "source": [
        "# Part 2\n",
        "\n",
        "Realize that for a given target, not every previous step should be calculated. Suppose, you have calculated what happens with every pair after two iterations, e.g.:\n",
        "- BB -> BNB -> BBNBB\n",
        "- BN -> BBN -> BNBBN\n",
        "- NB -> NBB -> NBBNB\n",
        "\n",
        "To get to 4, it is enough to look up what happens with a pair after 2 iterations. With an example 4 steps can be calculated by iterating from 2 to 3, then from 3 to 4, or executing a \"double\" iteration at step 2.\n",
        "- BBNBB -> BNBBNBBNB -> BBNBBNBBNBBNBBNBB --- this is going sequentially\n",
        "- BBNBB -> (BBNBB) + (BNBBN) + (NBBNB) + (BBNBB) = BBNBBNBBNBBNBBNBB --- this is recalling the 2nd step of every pair, and then concatenating them, appropriately leaving out some of the inner elements.\n",
        "\n",
        "With this, we can greately reduce the number of steps that needs to be computed. For 40 steps, only the following needs to be precomputed:\n",
        "- 40 -> 20\n",
        "- 20 -> 10\n",
        "- 10 -> 5\n",
        "- 5 -> 3, 2\n",
        "- 3 -> 2, 1\n",
        "- 2 -> 1\n",
        "- 1"
      ],
      "metadata": {
        "id": "vtxXPIsfnEvm"
      }
    },
    {
      "cell_type": "code",
      "source": [
        "# set target, and calculate steps needed\n",
        "final_step = 10 # part 1 - previously coded brute force\n",
        "final_step = 40 # part 2 - need to use my brainz\n",
        "steps_recursive = {1 : []}\n",
        "\n",
        "# calculate \"major\" steps, halving substep s until reaching 1\n",
        "s = final_step\n",
        "while s != 1:\n",
        "    steps_recursive[s] = sorted(list(set([s // 2, s - s // 2])))\n",
        "    s //= 2\n",
        "\n",
        "# fill the \"gaps\" between, any substeps that have been left out\n",
        "while True:\n",
        "\n",
        "    # add new substep if it is needed, but not in container\n",
        "    new_sr = {}\n",
        "    for sr in steps_recursive:\n",
        "        for s in steps_recursive[sr]:\n",
        "            if s not in steps_recursive:\n",
        "                new_sr[s] = sorted(list({s // 2, s - s // 2}))\n",
        "\n",
        "    # if no new substeps, break out, else append\n",
        "    if new_sr == {}:\n",
        "        break\n",
        "    else:\n",
        "        for s in new_sr: steps_recursive[s] = new_sr[s]\n",
        "\n",
        "################################################################################\n",
        "\n",
        "steps_recursive"
      ],
      "metadata": {
        "colab": {
          "base_uri": "https://localhost:8080/"
        },
        "id": "iebfz_yofuXE",
        "outputId": "83d9e617-d450-4466-dcf3-8a1675f656fc"
      },
      "execution_count": 2,
      "outputs": [
        {
          "output_type": "execute_result",
          "data": {
            "text/plain": [
              "{1: [], 2: [1], 3: [1, 2], 5: [2, 3], 10: [5]}"
            ]
          },
          "metadata": {},
          "execution_count": 2
        }
      ]
    },
    {
      "cell_type": "code",
      "source": [
        "iterations = {p: {1: p[0] + pairs[p] + p[1]} for p in pairs}\n",
        "\n",
        "# iterate through all but the last value\n",
        "# only those which need to be precomputed\n",
        "sr_sorted_keys = sorted(list(steps_recursive))\n",
        "for i in range(1, len(sr_sorted_keys) - 1):\n",
        "\n",
        "    # s0 and s1 stores the one / two predecessor steps\n",
        "    # if sr = 4, then s0 = s1 = 2\n",
        "    # if sr = 5, then s0 = 2, s1 = 3\n",
        "    sr = sr_sorted_keys[i]\n",
        "    steps = steps_recursive[sr]\n",
        "    s0 = 0\n",
        "    s1 = 0\n",
        "    if len(steps) == 1:\n",
        "        s0 = steps[0]\n",
        "        s1 = steps[0]\n",
        "    else:\n",
        "        s0 = steps[0]\n",
        "        s1 = steps[1]\n",
        "\n",
        "    # for each pair, execute the \"multi-step\"\n",
        "    for p in iterations:\n",
        "\n",
        "        # initialize new iterated string = it\n",
        "        # this will be at index sr\n",
        "        it = ''\n",
        "\n",
        "        # take the given pair's s0 iterated string = it1\n",
        "        it1 = iterations[p][s0]\n",
        "\n",
        "        # for each pair in it1\n",
        "        for x in range(0, len(it1) - 1):\n",
        "            it2 = it1[x : x + 2]\n",
        "\n",
        "            # take the other pair's s1 iterated string = it2\n",
        "            # and append it appropriately to the final version\n",
        "            # appropriately = remove last char except in the last pair\n",
        "            if x != len(it1) - 2:\n",
        "                it += iterations[it2][s1][: -1]\n",
        "            else:\n",
        "                it += iterations[it2][s1]\n",
        "\n",
        "        iterations[p][sr] = it\n",
        "\n",
        "################################################################################\n",
        "\n",
        "iterations"
      ],
      "metadata": {
        "id": "NIkAZYa4rewY",
        "colab": {
          "base_uri": "https://localhost:8080/"
        },
        "outputId": "31d124df-d2c3-465d-ab17-47f836cd73b9"
      },
      "execution_count": 4,
      "outputs": [
        {
          "output_type": "execute_result",
          "data": {
            "text/plain": [
              "{'BB': {1: 'BNB',\n",
              "  2: 'BBNBB',\n",
              "  3: 'BNBBNBBNB',\n",
              "  5: 'BNBBNBBNBBNBBNBBNBBNBBNBBNBBNBBNB'},\n",
              " 'BC': {1: 'BBC',\n",
              "  2: 'BNBBC',\n",
              "  3: 'BBNBBNBBC',\n",
              "  5: 'BBNBBNBBNBBNBBNBBNBBNBBNBBNBBNBBC'},\n",
              " 'BH': {1: 'BHH',\n",
              "  2: 'BHHNH',\n",
              "  3: 'BHHNHCNCH',\n",
              "  5: 'BHHNHCNCHBCCNBCBHCBBCNCCNBBBCHBHH'},\n",
              " 'BN': {1: 'BBN',\n",
              "  2: 'BNBBN',\n",
              "  3: 'BBNBBNBBN',\n",
              "  5: 'BBNBBNBBNBBNBBNBBNBBNBBNBBNBBNBBN'},\n",
              " 'CB': {1: 'CHB',\n",
              "  2: 'CBHCB',\n",
              "  3: 'CHBHHBCHB',\n",
              "  5: 'CHBHHBCHBHHNHCNCHBCHBNBBCHBHHBCHB'},\n",
              " 'CC': {1: 'CNC',\n",
              "  2: 'CCNBC',\n",
              "  3: 'CNCCNBBBC',\n",
              "  5: 'CNCCNBBBCCNBCNCCNBBNBBNBBBNBBNBBC'},\n",
              " 'CH': {1: 'CBH',\n",
              "  2: 'CHBHH',\n",
              "  3: 'CBHCBHHNH',\n",
              "  5: 'CBHCBHHNHCBBCBHCBHHNHCNCHBCCNBCBH'},\n",
              " 'CN': {1: 'CCN',\n",
              "  2: 'CNCCN',\n",
              "  3: 'CCNBCNCCN',\n",
              "  5: 'CCNBCNCCNBBNBNBBCNCCNBBBCCNBCNCCN'},\n",
              " 'HB': {1: 'HCB',\n",
              "  2: 'HBCHB',\n",
              "  3: 'HCBBCBHCB',\n",
              "  5: 'HCBBCBHCBBNBBNBBCBHCBHHNHCBBCBHCB'},\n",
              " 'HC': {1: 'HBC',\n",
              "  2: 'HCBBC',\n",
              "  3: 'HBCHBNBBC',\n",
              "  5: 'HBCHBNBBCHBHHBCHBNBBNBBNBBNBBNBBC'},\n",
              " 'HH': {1: 'HNH',\n",
              "  2: 'HCNCH',\n",
              "  3: 'HBCCNBCBH',\n",
              "  5: 'HBCHBNBBCCNBCNCCNBBNBNBBCBHCBHHNH'},\n",
              " 'HN': {1: 'HCN',\n",
              "  2: 'HBCCN',\n",
              "  3: 'HCBBCNCCN',\n",
              "  5: 'HCBBCBHCBBNBBNBBCNCCNBBBCCNBCNCCN'},\n",
              " 'NB': {1: 'NBB',\n",
              "  2: 'NBBNB',\n",
              "  3: 'NBBNBBNBB',\n",
              "  5: 'NBBNBBNBBNBBNBBNBBNBBNBBNBBNBBNBB'},\n",
              " 'NC': {1: 'NBC',\n",
              "  2: 'NBBBC',\n",
              "  3: 'NBBNBNBBC',\n",
              "  5: 'NBBNBBNBBNBBNBBNBNBBNBBNBBNBBNBBC'},\n",
              " 'NH': {1: 'NCH',\n",
              "  2: 'NBCBH',\n",
              "  3: 'NBBBCHBHH',\n",
              "  5: 'NBBNBBNBBBNBBNBBCHBHHBCHBHHNHCNCH'},\n",
              " 'NN': {1: 'NCN',\n",
              "  2: 'NBCCN',\n",
              "  3: 'NBBBCNCCN',\n",
              "  5: 'NBBNBBNBBBNBBNBBCNCCNBBBCCNBCNCCN'}}"
            ]
          },
          "metadata": {},
          "execution_count": 4
        }
      ]
    },
    {
      "cell_type": "code",
      "source": [
        "# for each iteration, calculate their char-counts\n",
        "counts = {pair: iterations[pair].copy() for pair in iterations}\n",
        "\n",
        "for pair in counts:\n",
        "    for iter in counts[pair]:\n",
        "        \n",
        "        string = counts[pair][iter]\n",
        "        abc = set(string)\n",
        "        counts[pair][iter] = {char: string.count(char) for char in abc}\n",
        "\n",
        "################################################################################\n",
        "\n",
        "counts"
      ],
      "metadata": {
        "id": "aw-vstVdaCJP",
        "colab": {
          "base_uri": "https://localhost:8080/"
        },
        "outputId": "b5582a46-9cee-4d23-f370-f72ddb4580bb"
      },
      "execution_count": 5,
      "outputs": [
        {
          "output_type": "execute_result",
          "data": {
            "text/plain": [
              "{'BB': {1: {'B': 2, 'N': 1},\n",
              "  2: {'B': 4, 'N': 1},\n",
              "  3: {'B': 6, 'N': 3},\n",
              "  5: {'B': 22, 'N': 11}},\n",
              " 'BC': {1: {'B': 2, 'C': 1},\n",
              "  2: {'B': 3, 'C': 1, 'N': 1},\n",
              "  3: {'B': 6, 'C': 1, 'N': 2},\n",
              "  5: {'B': 22, 'C': 1, 'N': 10}},\n",
              " 'BH': {1: {'B': 1, 'H': 2},\n",
              "  2: {'B': 1, 'H': 3, 'N': 1},\n",
              "  3: {'B': 1, 'C': 2, 'H': 4, 'N': 2},\n",
              "  5: {'B': 10, 'C': 10, 'H': 8, 'N': 5}},\n",
              " 'BN': {1: {'B': 2, 'N': 1},\n",
              "  2: {'B': 3, 'N': 2},\n",
              "  3: {'B': 6, 'N': 3},\n",
              "  5: {'B': 22, 'N': 11}},\n",
              " 'CB': {1: {'B': 1, 'C': 1, 'H': 1},\n",
              "  2: {'B': 2, 'C': 2, 'H': 1},\n",
              "  3: {'B': 3, 'C': 2, 'H': 4},\n",
              "  5: {'B': 10, 'C': 7, 'H': 13, 'N': 3}},\n",
              " 'CC': {1: {'C': 2, 'N': 1},\n",
              "  2: {'B': 1, 'C': 3, 'N': 1},\n",
              "  3: {'B': 3, 'C': 4, 'N': 2},\n",
              "  5: {'B': 15, 'C': 9, 'N': 9}},\n",
              " 'CH': {1: {'B': 1, 'C': 1, 'H': 1},\n",
              "  2: {'B': 1, 'C': 1, 'H': 3},\n",
              "  3: {'B': 2, 'C': 2, 'H': 4, 'N': 1},\n",
              "  5: {'B': 9, 'C': 10, 'H': 10, 'N': 4}},\n",
              " 'CN': {1: {'C': 2, 'N': 1},\n",
              "  2: {'C': 3, 'N': 2},\n",
              "  3: {'B': 1, 'C': 5, 'N': 3},\n",
              "  5: {'B': 10, 'C': 13, 'N': 10}},\n",
              " 'HB': {1: {'B': 1, 'C': 1, 'H': 1},\n",
              "  2: {'B': 2, 'C': 1, 'H': 2},\n",
              "  3: {'B': 4, 'C': 3, 'H': 2},\n",
              "  5: {'B': 15, 'C': 8, 'H': 7, 'N': 3}},\n",
              " 'HC': {1: {'B': 1, 'C': 1, 'H': 1},\n",
              "  2: {'B': 2, 'C': 2, 'H': 1},\n",
              "  3: {'B': 4, 'C': 2, 'H': 2, 'N': 1},\n",
              "  5: {'B': 17, 'C': 4, 'H': 6, 'N': 6}},\n",
              " 'HH': {1: {'H': 2, 'N': 1},\n",
              "  2: {'C': 2, 'H': 2, 'N': 1},\n",
              "  3: {'B': 3, 'C': 3, 'H': 2, 'N': 1},\n",
              "  5: {'B': 12, 'C': 8, 'H': 6, 'N': 7}},\n",
              " 'HN': {1: {'C': 1, 'H': 1, 'N': 1},\n",
              "  2: {'B': 1, 'C': 2, 'H': 1, 'N': 1},\n",
              "  3: {'B': 2, 'C': 4, 'H': 1, 'N': 2},\n",
              "  5: {'B': 13, 'C': 11, 'H': 2, 'N': 7}},\n",
              " 'NB': {1: {'B': 2, 'N': 1},\n",
              "  2: {'B': 3, 'N': 2},\n",
              "  3: {'B': 6, 'N': 3},\n",
              "  5: {'B': 22, 'N': 11}},\n",
              " 'NC': {1: {'B': 1, 'C': 1, 'N': 1},\n",
              "  2: {'B': 3, 'C': 1, 'N': 1},\n",
              "  3: {'B': 5, 'C': 1, 'N': 3},\n",
              "  5: {'B': 21, 'C': 1, 'N': 11}},\n",
              " 'NH': {1: {'C': 1, 'H': 1, 'N': 1},\n",
              "  2: {'B': 2, 'C': 1, 'H': 1, 'N': 1},\n",
              "  3: {'B': 4, 'C': 1, 'H': 3, 'N': 1},\n",
              "  5: {'B': 14, 'C': 4, 'H': 8, 'N': 7}},\n",
              " 'NN': {1: {'C': 1, 'N': 2},\n",
              "  2: {'B': 1, 'C': 2, 'N': 2},\n",
              "  3: {'B': 3, 'C': 3, 'N': 3},\n",
              "  5: {'B': 15, 'C': 8, 'N': 10}}}"
            ]
          },
          "metadata": {},
          "execution_count": 5
        }
      ]
    },
    {
      "cell_type": "code",
      "source": [
        "# finalize: get the two parts of the final step\n",
        "# step0 + step1 = fs\n",
        "fs = steps_recursive[final_step]\n",
        "\n",
        "step0 = 0\n",
        "step1 = 0\n",
        "if len(fs) == 1:\n",
        "    step0 = fs[0]\n",
        "    step1 = fs[0]\n",
        "else:\n",
        "    step0 = fs[0]\n",
        "    step1 = fs[1]\n",
        "\n",
        "# initialize a final counter\n",
        "final_counter = {}\n",
        "\n",
        "# for each pair in the polymer template\n",
        "for i in range(0, len(polymer_template) - 1):\n",
        "    pair = polymer_template[i : i + 2]\n",
        "    \n",
        "    # select the step0 iteration of the pair\n",
        "    iter0 = iterations[pair][step0]\n",
        "\n",
        "    # for each pair in the step0 iteration\n",
        "    for j in range(0, len(iter0) - 1):\n",
        "        iter0_pair = iter0[j : j + 2]\n",
        "\n",
        "        # select the counts of the step1 for the pair\n",
        "        counts1 = counts[iter0_pair][step1]\n",
        "\n",
        "        # for each count, increase the final counter\n",
        "        for char in counts1:\n",
        "            if char not in final_counter:\n",
        "                final_counter[char] = counts1[char]\n",
        "            else:\n",
        "                final_counter[char] += counts1[char]\n",
        "        \n",
        "        # watch out for concatenation, avoid counting twice\n",
        "        # solving by removing the very last char in the end\n",
        "        last_char = iter0_pair[-1]\n",
        "        final_counter[last_char] -= 1\n",
        "\n",
        "# add the polymer template's last char to the counter\n",
        "last_char = polymer_template[-1]\n",
        "final_counter[last_char] += 1\n",
        "\n",
        "################################################################################\n",
        "\n",
        "final_counter"
      ],
      "metadata": {
        "colab": {
          "base_uri": "https://localhost:8080/"
        },
        "id": "Assjpq8PcKT1",
        "outputId": "47cfa7f0-4112-420c-f137-f6306bb3246d"
      },
      "execution_count": 6,
      "outputs": [
        {
          "output_type": "execute_result",
          "data": {
            "text/plain": [
              "{'B': 1749, 'C': 298, 'H': 161, 'N': 865}"
            ]
          },
          "metadata": {},
          "execution_count": 6
        }
      ]
    },
    {
      "cell_type": "code",
      "source": [
        "# get min-max values and enjoy\n",
        "m = min(final_counter.values())\n",
        "M = max(final_counter.values())\n",
        "\n",
        "M - m"
      ],
      "metadata": {
        "colab": {
          "base_uri": "https://localhost:8080/"
        },
        "id": "HNyeFgzbgZZj",
        "outputId": "7a8cffc1-1722-4679-83c3-0fec72187e89"
      },
      "execution_count": 7,
      "outputs": [
        {
          "output_type": "execute_result",
          "data": {
            "text/plain": [
              "1588"
            ]
          },
          "metadata": {},
          "execution_count": 7
        }
      ]
    }
  ]
}